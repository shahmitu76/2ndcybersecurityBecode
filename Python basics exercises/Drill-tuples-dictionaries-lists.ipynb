{
 "cells": [
  {
   "attachments": {},
   "cell_type": "markdown",
   "metadata": {},
   "source": [
    "# Drill : Lists, Tuples, Dictionaries"
   ]
  },
  {
   "attachments": {},
   "cell_type": "markdown",
   "metadata": {},
   "source": [
    "### 1. Choose 5 words from the English language and create  dictionaries that associates each of these words with its French translation."
   ]
  },
  {
   "cell_type": "code",
   "execution_count": 12,
   "metadata": {},
   "outputs": [
    {
     "name": "stdout",
     "output_type": "stream",
     "text": [
      "{'Beautiful': 'belle', 'water': 'eau', 'box': 'boite', 'fork': 'fourchette', 'bread': 'pain'}\n"
     ]
    }
   ],
   "source": [
    "\n",
    "EngFrench={\"Beautiful\":\"belle\",\"water\":'eau',\"box\":'boite',\"fork\":'fourchette',\"bread\":'pain'}\n",
    "print(EngFrench)"
   ]
  },
  {
   "attachments": {},
   "cell_type": "markdown",
   "metadata": {},
   "source": [
    "### 2. Add an entry to the dictionary of the previous question (a new word and its definition)."
   ]
  },
  {
   "cell_type": "code",
   "execution_count": 23,
   "metadata": {},
   "outputs": [
    {
     "name": "stdout",
     "output_type": "stream",
     "text": [
      "{'Beautiful': 'belle', 'water': 'eau', 'box': 'boite', 'fork': 'fourchette', 'bread': 'pain'}\n",
      "{'Beautiful': 'belle', 'water': 'eau', 'box': 'boite', 'fork': 'fourchette', 'bread': 'pain', 'Come': 'allez'}\n"
     ]
    }
   ],
   "source": [
    "\n",
    "EngFrench={\"Beautiful\":\"belle\",\"water\":'eau',\"box\":'boite',\"fork\":'fourchette',\"bread\":'pain'}\n",
    "print(EngFrench)\n",
    "EngFrench[\"Come\"]= \"allez\"\n",
    "print(EngFrench)"
   ]
  },
  {
   "attachments": {},
   "cell_type": "markdown",
   "metadata": {},
   "source": [
    "### 3. How would you cut the following string at each space and put it in a list?"
   ]
  },
  {
   "cell_type": "code",
   "execution_count": 25,
   "metadata": {},
   "outputs": [
    {
     "name": "stdout",
     "output_type": "stream",
     "text": [
      "['I', 'am', 'the', 'master', 'of', 'the', 'world']\n"
     ]
    }
   ],
   "source": [
    "sentence = \"I am the master of the world\"\n",
    "cut_string=sentence.split()\n",
    "print(cut_string)"
   ]
  },
  {
   "attachments": {},
   "cell_type": "markdown",
   "metadata": {},
   "source": [
    "### 4. Transform this string \"The_universal_number_is_42\" by removing the underscores: \"The universal number is 42\""
   ]
  },
  {
   "attachments": {},
   "cell_type": "markdown",
   "metadata": {},
   "source": []
  },
  {
   "cell_type": "code",
   "execution_count": 26,
   "metadata": {},
   "outputs": [
    {
     "name": "stdout",
     "output_type": "stream",
     "text": [
      "The universal number is 42\n"
     ]
    }
   ],
   "source": [
    "\n",
    "originalString=\"The_universal_number_is_42\" \n",
    "NewString=originalString.replace(\"_\",\" \")\n",
    "print(NewString)\n"
   ]
  },
  {
   "attachments": {},
   "cell_type": "markdown",
   "metadata": {},
   "source": [
    "### 5. Display only values of this dictionary."
   ]
  },
  {
   "cell_type": "code",
   "execution_count": 27,
   "metadata": {},
   "outputs": [
    {
     "name": "stdout",
     "output_type": "stream",
     "text": [
      "Clark Kent Bruce Wayne Tony Parker\n"
     ]
    }
   ],
   "source": [
    "heroes = {\"Superman\": \"Clark Kent\", \"Batman\": \"Bruce Wayne\", \"Spiderman\": \"Tony Parker\"}\n",
    "print(heroes[\"Superman\"],heroes[\"Batman\"],heroes[\"Spiderman\"])"
   ]
  },
  {
   "attachments": {},
   "cell_type": "markdown",
   "metadata": {},
   "source": [
    "### 6. Display only keys of this dictionary."
   ]
  },
  {
   "cell_type": "code",
   "execution_count": 28,
   "metadata": {},
   "outputs": [
    {
     "name": "stdout",
     "output_type": "stream",
     "text": [
      "dict_keys(['Superman', 'Batman', 'Spiderman'])\n"
     ]
    }
   ],
   "source": [
    "heroes = {\"Superman\": \"Clark Kent\", \"Batman\": \"Bruce Wayne\", \"Spiderman\": \"Tony Parker\"}\n",
    "onlykeys= heroes.keys()\n",
    "print(onlykeys)"
   ]
  },
  {
   "attachments": {},
   "cell_type": "markdown",
   "metadata": {},
   "source": [
    "### 7. Replace the value of  \"Spiderman\" by \"Peter Parker\"."
   ]
  },
  {
   "cell_type": "code",
   "execution_count": 32,
   "metadata": {},
   "outputs": [
    {
     "name": "stdout",
     "output_type": "stream",
     "text": [
      "{'Superman': 'Clark Kent', 'Batman': 'Bruce Wayne', 'Spiderman': 'Peter Parker'}\n"
     ]
    }
   ],
   "source": [
    "heroes = {\"Superman\": \"Clark Kent\", \"Batman\": \"Bruce Wayne\", \"Spiderman\": \"Tony Parker\"}\n",
    "heroes[\"Spiderman\"]=\"Peter Parker\"\n",
    "print(heroes)"
   ]
  },
  {
   "attachments": {},
   "cell_type": "markdown",
   "metadata": {},
   "source": [
    "### 8. Create a dictionary to build the price base of the products corresponding to the following table.\n",
    "\n",
    "    Laser sword // 229.0\n",
    "    Mitendo DX // 127.30\n",
    "    Linux cushion // 74.50\n",
    "    Goldorak briefs // 29.90\n",
    "    Nextpresso station // 184.60"
   ]
  },
  {
   "cell_type": "code",
   "execution_count": 35,
   "metadata": {},
   "outputs": [
    {
     "name": "stdout",
     "output_type": "stream",
     "text": [
      "{'Laser Sword': 229.0, 'Mitendo DX': 127.3, 'Linux cushion': 74.5, 'Goldorak briefs': 29.9, 'Nextpresso station': 184.6}\n"
     ]
    }
   ],
   "source": [
    "base_price={\"Laser Sword\":229.0, \"Mitendo DX\":127.30, \"Linux cushion\": 74.50, \"Goldorak briefs\":29.90,\"Nextpresso station\"\n",
    ":184.60}\n",
    "print(base_price)"
   ]
  },
  {
   "attachments": {},
   "cell_type": "markdown",
   "metadata": {},
   "source": [
    "### 9. Calculate the total price of the items of the dictionary."
   ]
  },
  {
   "cell_type": "code",
   "execution_count": 36,
   "metadata": {},
   "outputs": [
    {
     "name": "stdout",
     "output_type": "stream",
     "text": [
      "645.3\n"
     ]
    }
   ],
   "source": [
    "base_price={\"Laser Sword\":229.0, \"Mitendo DX\":127.30, \"Linux cushion\": 74.50, \"Goldorak briefs\":29.90,\"Nextpresso station\"\n",
    ":184.60}\n",
    "total_price= sum((base_price.values()))\n",
    "print(total_price)\n"
   ]
  },
  {
   "attachments": {},
   "cell_type": "markdown",
   "metadata": {},
   "source": [
    "### 10. Remove one of the articles from the dictionary."
   ]
  },
  {
   "cell_type": "code",
   "execution_count": 38,
   "metadata": {},
   "outputs": [
    {
     "name": "stdout",
     "output_type": "stream",
     "text": [
      "{'Laser Sword': 229.0, 'Mitendo DX': 127.3, 'Linux cushion': 74.5, 'Goldorak briefs': 29.9}\n"
     ]
    }
   ],
   "source": [
    "base_price={\"Laser Sword\":229.0, \"Mitendo DX\":127.30, \"Linux cushion\": 74.50, \"Goldorak briefs\":29.90,\"Nextpresso station\"\n",
    ":184.60}\n",
    "del base_price[\"Nextpresso station\"]\n",
    "print(base_price)"
   ]
  },
  {
   "attachments": {},
   "cell_type": "markdown",
   "metadata": {},
   "source": [
    "## [Next one](../7.loops-and-iterations/loops-and-iterations.ipynb)"
   ]
  }
 ],
 "metadata": {
  "kernelspec": {
   "display_name": "Python 3",
   "language": "python",
   "name": "python3"
  },
  "language_info": {
   "codemirror_mode": {
    "name": "ipython",
    "version": 3
   },
   "file_extension": ".py",
   "mimetype": "text/x-python",
   "name": "python",
   "nbconvert_exporter": "python",
   "pygments_lexer": "ipython3",
   "version": "3.10.11"
  }
 },
 "nbformat": 4,
 "nbformat_minor": 2
}
