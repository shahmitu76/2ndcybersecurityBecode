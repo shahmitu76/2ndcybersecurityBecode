{
 "cells": [
  {
   "cell_type": "markdown",
   "metadata": {},
   "source": [
    "# Quizz 1 - Python basics"
   ]
  },
  {
   "cell_type": "markdown",
   "metadata": {},
   "source": [
    "## a) type"
   ]
  },
  {
   "cell_type": "markdown",
   "metadata": {},
   "source": [
    "### Create a variable `string` containing `\"toto\"` and a variable `number` containing the number 10."
   ]
  },
  {
   "cell_type": "code",
   "execution_count": 2,
   "metadata": {},
   "outputs": [],
   "source": [
    "string=\"toto\"\n",
    "number=10\n"
   ]
  },
  {
   "cell_type": "markdown",
   "metadata": {},
   "source": [
    "### Convert `string` to unicode and `number` to float."
   ]
  },
  {
   "cell_type": "code",
   "execution_count": 3,
   "metadata": {},
   "outputs": [
    {
     "name": "stdout",
     "output_type": "stream",
     "text": [
      "unicode of  is []\n"
     ]
    },
    {
     "ename": "ValueError",
     "evalue": "could not convert string to float: ''",
     "output_type": "error",
     "traceback": [
      "\u001b[1;31m---------------------------------------------------------------------------\u001b[0m",
      "\u001b[1;31mValueError\u001b[0m                                Traceback (most recent call last)",
      "Cell \u001b[1;32mIn[3], line 15\u001b[0m\n\u001b[0;32m     13\u001b[0m \u001b[39mprint\u001b[39m(\u001b[39mf\u001b[39m\u001b[39m\"\u001b[39m\u001b[39municode of \u001b[39m\u001b[39m{\u001b[39;00mx\u001b[39m}\u001b[39;00m\u001b[39m is \u001b[39m\u001b[39m{\u001b[39;00my\u001b[39m}\u001b[39;00m\u001b[39m\"\u001b[39m)\n\u001b[0;32m     14\u001b[0m m\u001b[39m=\u001b[39m\u001b[39minput\u001b[39m(\u001b[39m\"\u001b[39m\u001b[39mEnter a number to be converted into float \u001b[39m\u001b[39m\\n\u001b[39;00m\u001b[39m \u001b[39m\u001b[39m\"\u001b[39m)\n\u001b[1;32m---> 15\u001b[0m n\u001b[39m=\u001b[39mnumber_to_float(m)\n\u001b[0;32m     16\u001b[0m \u001b[39mprint\u001b[39m(\u001b[39mf\u001b[39m\u001b[39m\"\u001b[39m\u001b[39mfloat of \u001b[39m\u001b[39m{\u001b[39;00mm\u001b[39m}\u001b[39;00m\u001b[39m is \u001b[39m\u001b[39m{\u001b[39;00mn\u001b[39m}\u001b[39;00m\u001b[39m\"\u001b[39m)\n",
      "Cell \u001b[1;32mIn[3], line 9\u001b[0m, in \u001b[0;36mnumber_to_float\u001b[1;34m(number)\u001b[0m\n\u001b[0;32m      8\u001b[0m \u001b[39mdef\u001b[39;00m \u001b[39mnumber_to_float\u001b[39m(number):\n\u001b[1;32m----> 9\u001b[0m     float_number\u001b[39m=\u001b[39m\u001b[39mfloat\u001b[39;49m(number)\n\u001b[0;32m     10\u001b[0m     \u001b[39mreturn\u001b[39;00m float_number\n",
      "\u001b[1;31mValueError\u001b[0m: could not convert string to float: ''"
     ]
    }
   ],
   "source": [
    "def string_to_unicode(string):\n",
    "    list_unicode=[]\n",
    "    list_string=list(string)\n",
    "    for char in list_string:\n",
    "        list_unicode.append(ord(char))\n",
    "    return list_unicode\n",
    "\n",
    "def number_to_float(number):\n",
    "    float_number=float(number)\n",
    "    return float_number\n",
    "x=input(\"Enter a string to be changed into unicode \\n \")\n",
    "y=string_to_unicode(x)\n",
    "print(f\"unicode of {x} is {y}\")\n",
    "m=input(\"Enter a number to be converted into float \\n \")\n",
    "n=number_to_float(m)\n",
    "print(f\"float of {m} is {n}\")\n"
   ]
  },
  {
   "cell_type": "markdown",
   "metadata": {},
   "source": [
    "### Reverse the contents of the variables `string` and `number` (from line 1)."
   ]
  },
  {
   "cell_type": "code",
   "execution_count": 4,
   "metadata": {},
   "outputs": [
    {
     "name": "stdout",
     "output_type": "stream",
     "text": [
      "otot\n",
      "10\n",
      "10\n",
      "01\n"
     ]
    }
   ],
   "source": [
    "string= string[::-1]\n",
    "print(string)\n",
    "new_number=str(number)\n",
    "print(number)\n",
    "print(new_number)\n",
    "new_number1=new_number[::-1]\n",
    "print(new_number1)\n",
    "int_new_number=int(new_number1)\n",
    "\n"
   ]
  },
  {
   "cell_type": "markdown",
   "metadata": {},
   "source": [
    "## b) List"
   ]
  },
  {
   "cell_type": "markdown",
   "metadata": {},
   "source": [
    "### Create a list `first_list`  containing the following integers: 1, 3, 2, 7, 4, 10, 46."
   ]
  },
  {
   "cell_type": "code",
   "execution_count": 5,
   "metadata": {},
   "outputs": [],
   "source": [
    "first_list=[1,3,2,7,4,10,46]"
   ]
  },
  {
   "cell_type": "markdown",
   "metadata": {},
   "source": [
    "\n",
    "### Display the first 3 items in `first_list` - in one line of code."
   ]
  },
  {
   "cell_type": "code",
   "execution_count": 6,
   "metadata": {},
   "outputs": [
    {
     "name": "stdout",
     "output_type": "stream",
     "text": [
      "[1, 3, 2]\n"
     ]
    }
   ],
   "source": [
    "print(first_list[:3])"
   ]
  },
  {
   "cell_type": "markdown",
   "metadata": {},
   "source": [
    "### Create a `second_list` that contains only the 3rd, 4th and 5th elements of `first_list` . Your list indexing should use 3 characters at most (not including spaces) - Check your result carefully!"
   ]
  },
  {
   "cell_type": "code",
   "execution_count": 7,
   "metadata": {},
   "outputs": [
    {
     "name": "stdout",
     "output_type": "stream",
     "text": [
      "[2, 7, 4]\n"
     ]
    }
   ],
   "source": [
    "second_list=first_list[2:5]\n",
    "print(second_list)"
   ]
  },
  {
   "cell_type": "markdown",
   "metadata": {},
   "source": [
    "### Concatenate `first_list` and `second_list` to form `third_list`."
   ]
  },
  {
   "cell_type": "code",
   "execution_count": 8,
   "metadata": {},
   "outputs": [
    {
     "name": "stdout",
     "output_type": "stream",
     "text": [
      "[1, 3, 2, 7, 4, 10, 46, 2, 7, 4]\n"
     ]
    }
   ],
   "source": [
    "third_list=first_list+second_list\n",
    "print(third_list)"
   ]
  },
  {
   "cell_type": "markdown",
   "metadata": {},
   "source": [
    "### Using the zip function, associate the values of `first_list` and `second_list` in the variable `tuple_of_lists`."
   ]
  },
  {
   "cell_type": "code",
   "execution_count": 9,
   "metadata": {},
   "outputs": [
    {
     "name": "stdout",
     "output_type": "stream",
     "text": [
      "[(1, 2), (3, 7), (2, 4)]\n"
     ]
    }
   ],
   "source": [
    "tuple_of_lists= list(zip(first_list,second_list))\n",
    "print(tuple_of_lists)"
   ]
  },
  {
   "cell_type": "markdown",
   "metadata": {},
   "source": [
    "https://www.freecodecamp.org/news/python-zip-zip-function-in-python/#:~:text=When%20you%20use%20the%20zip,derived%20from%20the%20data%20sets."
   ]
  },
  {
   "cell_type": "markdown",
   "metadata": {},
   "source": [
    "### Add the number 5 to `first_list`."
   ]
  },
  {
   "cell_type": "code",
   "execution_count": 10,
   "metadata": {},
   "outputs": [
    {
     "name": "stdout",
     "output_type": "stream",
     "text": [
      "[1, 3, 2, 7, 4, 10, 46, 5]\n"
     ]
    }
   ],
   "source": [
    "first_list.append(5)\n",
    "print(first_list)"
   ]
  },
  {
   "cell_type": "code",
   "execution_count": null,
   "metadata": {},
   "outputs": [],
   "source": []
  },
  {
   "cell_type": "markdown",
   "metadata": {},
   "source": [
    "### Add a null element to `third_list`."
   ]
  },
  {
   "cell_type": "code",
   "execution_count": 11,
   "metadata": {},
   "outputs": [
    {
     "name": "stdout",
     "output_type": "stream",
     "text": [
      "[1, 3, 2, 7, 4, 10, 46, 2, 7, 4, None]\n"
     ]
    }
   ],
   "source": [
    "third_list.append(None)\n",
    "print(third_list)"
   ]
  },
  {
   "cell_type": "markdown",
   "metadata": {},
   "source": [
    "### Write a function that takes as arguments a list `my_list` and an integer `n` and returns the result of `n` concatenations of `my_list` with itself."
   ]
  },
  {
   "cell_type": "code",
   "execution_count": 12,
   "metadata": {},
   "outputs": [
    {
     "name": "stdout",
     "output_type": "stream",
     "text": [
      "[1, 2, 3, 1, 2, 3, 1, 2, 3]\n"
     ]
    }
   ],
   "source": [
    "def list_concat(my_list,n):\n",
    "    result=my_list*n\n",
    "    return result\n",
    "x=list_concat([1,2,3],3)\n",
    "print(x)"
   ]
  },
  {
   "cell_type": "markdown",
   "metadata": {},
   "source": [
    "### You want to make parameter `n` optional and set its value to 2 by default. How do you do it?"
   ]
  },
  {
   "cell_type": "code",
   "execution_count": 13,
   "metadata": {},
   "outputs": [
    {
     "name": "stdout",
     "output_type": "stream",
     "text": [
      "[1, 2, 3, 1, 2, 3]\n"
     ]
    }
   ],
   "source": [
    "def list_concat(my_list,n=2):\n",
    "    result=my_list*n\n",
    "    return result\n",
    "x=list_concat([1,2,3])\n",
    "print(x)"
   ]
  },
  {
   "cell_type": "code",
   "execution_count": null,
   "metadata": {},
   "outputs": [],
   "source": []
  },
  {
   "cell_type": "code",
   "execution_count": 5,
   "metadata": {},
   "outputs": [
    {
     "name": "stdout",
     "output_type": "stream",
     "text": [
      "[1, 2, 3, 1, 2, 3]\n"
     ]
    }
   ],
   "source": [
    "def list_concat(my_list,n=2):\n",
    "    result=my_list*n\n",
    "    return result\n",
    "x=list_concat([1,2,3])\n",
    "print(x)"
   ]
  },
  {
   "cell_type": "markdown",
   "metadata": {},
   "source": [
    "###  With a `while` loop, print each element of `third_list` up to the `null` element."
   ]
  },
  {
   "cell_type": "code",
   "execution_count": 14,
   "metadata": {},
   "outputs": [
    {
     "name": "stdout",
     "output_type": "stream",
     "text": [
      "element is 1\n",
      "element is 3\n",
      "element is 2\n",
      "element is 7\n",
      "element is 4\n",
      "element is 10\n",
      "element is 46\n",
      "element is 2\n",
      "element is 7\n",
      "element is 4\n",
      "element is None\n"
     ]
    }
   ],
   "source": [
    "\n",
    "while True:\n",
    "    for element in third_list:\n",
    "        print(f\"element is {element}\")\n",
    "    break"
   ]
  },
  {
   "cell_type": "markdown",
   "metadata": {},
   "source": [
    "### Calculate, with a `for` loop, the number of even integers present in the list `first_list`."
   ]
  },
  {
   "cell_type": "code",
   "execution_count": 18,
   "metadata": {},
   "outputs": [
    {
     "name": "stdout",
     "output_type": "stream",
     "text": [
      "first list is [1, 3, 2, 7, 4, 10, 46, 5]\n",
      "Total count of even numbers is 4\n"
     ]
    }
   ],
   "source": [
    "even_count=0\n",
    "print(f\"first list is {first_list}\")\n",
    "for element in first_list:\n",
    "    if element%2==0:\n",
    "        even_count+=1\n",
    "print(f\"Total count of even numbers is {even_count}\")"
   ]
  },
  {
   "cell_type": "markdown",
   "metadata": {},
   "source": [
    "### Rewrite the following expression with a multi-line `for` loop."
   ]
  },
  {
   "cell_type": "code",
   "execution_count": null,
   "metadata": {},
   "outputs": [],
   "source": [
    "even_numbers = [element for element in first_list if element % 2 == 0]"
   ]
  },
  {
   "cell_type": "code",
   "execution_count": 24,
   "metadata": {},
   "outputs": [
    {
     "name": "stdout",
     "output_type": "stream",
     "text": [
      "first list is [1, 3, 2, 7, 4, 10, 46, 5]\n",
      "even number is 46\n"
     ]
    }
   ],
   "source": [
    "print(f\"first list is {first_list}\")\n",
    "for element in first_list: \n",
    "    if element%2 == 0:\n",
    "        even_numbers = element \n",
    "print(f\"even number is {even_numbers}\")"
   ]
  },
  {
   "cell_type": "markdown",
   "metadata": {},
   "source": [
    "### Create a function that takes a string as input and returns the first single letter of the string"
   ]
  },
  {
   "cell_type": "code",
   "execution_count": 29,
   "metadata": {},
   "outputs": [
    {
     "name": "stdout",
     "output_type": "stream",
     "text": [
      "The first letter of string is T\n"
     ]
    }
   ],
   "source": [
    "def first_single_letter(string):\n",
    "    for element in string:\n",
    "        if element.isalpha()==True:\n",
    "            return element\n",
    "input_string= input(\"Please enter any string \\n\")   \n",
    "x=first_single_letter(input_string)\n",
    "print(f\"The first letter of string is {x}\")"
   ]
  },
  {
   "cell_type": "markdown",
   "metadata": {},
   "source": [
    "## c) Dictionaries"
   ]
  },
  {
   "cell_type": "markdown",
   "metadata": {},
   "source": [
    "### Create a `car` dictionary with the following keys and values:\n",
    "| key  | value |\n",
    "|---|---|\n",
    "| brand  | Ford  |\n",
    "| model  | Mustang |\n",
    "| year  | 1964 |"
   ]
  },
  {
   "cell_type": "code",
   "execution_count": 39,
   "metadata": {},
   "outputs": [
    {
     "name": "stdout",
     "output_type": "stream",
     "text": [
      "{'brand': 'Ford', 'model': 'Mustang', 'year': '1964'}\n",
      "<class 'dict'>\n"
     ]
    }
   ],
   "source": [
    "car={\"brand\":\"Ford\",\"model\":\"Mustang\",\"year\":\"1964\"}\n",
    "print(car)\n",
    "print(type(car))"
   ]
  },
  {
   "cell_type": "markdown",
   "metadata": {},
   "source": [
    "### Access the `year` value."
   ]
  },
  {
   "cell_type": "code",
   "execution_count": 40,
   "metadata": {},
   "outputs": [
    {
     "name": "stdout",
     "output_type": "stream",
     "text": [
      "1964\n"
     ]
    }
   ],
   "source": [
    "print(car[\"year\"])"
   ]
  },
  {
   "cell_type": "markdown",
   "metadata": {},
   "source": [
    "###  Use a loop to display all the dictionary keys."
   ]
  },
  {
   "cell_type": "code",
   "execution_count": 51,
   "metadata": {},
   "outputs": [
    {
     "name": "stdout",
     "output_type": "stream",
     "text": [
      "brand,model,year,"
     ]
    }
   ],
   "source": [
    "for key,value in car.items():\n",
    "    print(key,end=\",\")"
   ]
  },
  {
   "cell_type": "markdown",
   "metadata": {},
   "source": [
    "###  Use a loop to display all the dictionary values."
   ]
  },
  {
   "cell_type": "code",
   "execution_count": 52,
   "metadata": {},
   "outputs": [
    {
     "name": "stdout",
     "output_type": "stream",
     "text": [
      "Ford\n",
      "Mustang\n",
      "1964\n"
     ]
    }
   ],
   "source": [
    "for key,value in car.items():\n",
    "    print(value)"
   ]
  },
  {
   "cell_type": "markdown",
   "metadata": {},
   "source": [
    "### Use a loop to display all the items in the dictionary. Display also the index of each loop iteration (`enumerate` function)."
   ]
  },
  {
   "cell_type": "code",
   "execution_count": 55,
   "metadata": {},
   "outputs": [
    {
     "name": "stdout",
     "output_type": "stream",
     "text": [
      "0 ('brand', 'Ford')\n",
      "1 ('model', 'Mustang')\n",
      "2 ('year', '1964')\n"
     ]
    }
   ],
   "source": [
    "for i,j in enumerate(car.items()):\n",
    "    print(i,j)\n"
   ]
  },
  {
   "cell_type": "markdown",
   "metadata": {},
   "source": [
    "### With the help of a dictionary comprehension, create a dictionary with the following keys and values :\n",
    "| key  | value |\n",
    "|---|---|\n",
    "| cle_1  | dictionary 'car' |\n",
    "| cle_2  | dictionary 'car' |\n",
    "| cle_3  | dictionary 'car'|\n",
    "\n",
    "#### Example of a dictionary comprehension (similar to list comprehension):\n",
    "```\n",
    "dict = {key:value for key, value in zip(list_1, list_2)}\n",
    "```"
   ]
  },
  {
   "cell_type": "code",
   "execution_count": 1,
   "metadata": {},
   "outputs": [
    {
     "name": "stdout",
     "output_type": "stream",
     "text": [
      "{'cle_1': \"dictionary 'car'\", 'cle_2': \"dictionary 'car'\", 'cle_3': \"dictionary 'car'\"}\n"
     ]
    }
   ],
   "source": [
    "'''list_1=[\"cle_1\",\"cle_2\",\"cle_3\"]\n",
    "list_2=[\"dictionary 'car'\",\"dictionary 'car'\",\"dictionary 'car'\"]\n",
    "'''\n",
    "fields = [\"cle_1\", \"cle_2\", \"cle_3\"]\n",
    "values = [\"dictionary 'car'\", \"dictionary 'car'\", \"dictionary 'car'\"]\n",
    "dict1 = {fields:values for fields, values in zip(fields, values)}\n",
    "print(dict1)\n",
    "\n"
   ]
  },
  {
   "cell_type": "markdown",
   "metadata": {},
   "source": [
    "## d) Functions"
   ]
  },
  {
   "cell_type": "markdown",
   "metadata": {},
   "source": [
    "### Create a Fibonacci function called `fibonacci`  (Fibonacci sequence: 0 1 1 2 3 5 8 13 ...)\n",
    "\n",
    "It should return the list of all Fibonacci numbers leading up to the Fibonacci number that is bigger (or equal) than the number passed in as argument.\n",
    "Ex : `fibonacci(10) return [0,1,1,2,3,5,8,13]`\n",
    "Ex : `fibonacci(5) return [0,1,1,2,3,5]`"
   ]
  },
  {
   "cell_type": "code",
   "execution_count": 74,
   "metadata": {},
   "outputs": [
    {
     "name": "stdout",
     "output_type": "stream",
     "text": [
      "Fibonaaci series is [0, 1, 1, 2, 3, 5, 8, 13, 21, 34, 55, 89, 144]\n"
     ]
    }
   ],
   "source": [
    "def fibonacci(n):\n",
    "    i=0\n",
    "    list_fibonacci=[0,1]\n",
    "    while list_fibonacci[-1] < n:\n",
    "       new= list_fibonacci[i]+list_fibonacci[i+1]\n",
    "       list_fibonacci.append(new)\n",
    "       i+=1\n",
    "    return list_fibonacci\n",
    "\n",
    "x= int(input(\"Enter the number till which you want fibonacci series\"))\n",
    "y=fibonacci(x)\n",
    "print(f\"Fibonaaci series is {y}\")\n",
    "\n",
    "\n"
   ]
  },
  {
   "cell_type": "markdown",
   "metadata": {},
   "source": [
    "### Execute your function. `fibonacci(100)` must be executed in less than 1 second."
   ]
  },
  {
   "cell_type": "code",
   "execution_count": 76,
   "metadata": {},
   "outputs": [
    {
     "name": "stdout",
     "output_type": "stream",
     "text": [
      "Fibonaaci series is [0, 1, 1, 2, 3, 5, 8, 13, 21, 34, 55, 89, 144]\n"
     ]
    }
   ],
   "source": [
    "def fibonacci(n):\n",
    "    i=0\n",
    "    list_fibonacci=[0,1]\n",
    "    while list_fibonacci[-1] < n:\n",
    "       new= list_fibonacci[i]+list_fibonacci[i+1]\n",
    "       list_fibonacci.append(new)\n",
    "       i+=1\n",
    "    return list_fibonacci\n",
    "\n",
    "y=fibonacci(100)\n",
    "print(f\"Fibonaaci series is {y}\")\n",
    "\n"
   ]
  },
  {
   "cell_type": "markdown",
   "metadata": {},
   "source": [
    "### Create the same function using a generator\n",
    "Ex : `generate_fibonacci(10) `"
   ]
  },
  {
   "cell_type": "code",
   "execution_count": 21,
   "metadata": {},
   "outputs": [
    {
     "name": "stdout",
     "output_type": "stream",
     "text": [
      "new is 1\n",
      "[0, 1, 1]\n",
      "The number is  [0, 1, 1]\n",
      "new is 2\n",
      "[0, 1, 1, 2]\n",
      "The number is  [0, 1, 1, 2]\n",
      "new is 3\n",
      "[0, 1, 1, 2, 3]\n",
      "The number is  [0, 1, 1, 2, 3]\n",
      "new is 5\n",
      "[0, 1, 1, 2, 3, 5]\n",
      "The number is  [0, 1, 1, 2, 3, 5]\n",
      "new is 8\n",
      "[0, 1, 1, 2, 3, 5, 8]\n",
      "The number is  [0, 1, 1, 2, 3, 5, 8]\n",
      "new is 13\n",
      "[0, 1, 1, 2, 3, 5, 8, 13]\n",
      "The number is  [0, 1, 1, 2, 3, 5, 8, 13]\n"
     ]
    }
   ],
   "source": [
    "def generate_fibonacci(number):\n",
    "    list_fibonacci=[0,1]\n",
    "    i=0\n",
    "    while list_fibonacci[-1]<=number:\n",
    "        new=list_fibonacci[i]+list_fibonacci[i+1]\n",
    "        print(\"new is\", new)\n",
    "        list_fibonacci.append(new)\n",
    "        print(list_fibonacci)\n",
    "        yield list_fibonacci\n",
    "        i+=1\n",
    "y=generate_fibonacci(10)\n",
    "print(\"The number is \",next(y))\n",
    "print(\"The number is \",next(y))\n",
    "print(\"The number is \",next(y))\n",
    "print(\"The number is \",next(y))\n",
    "print(\"The number is \",next(y))\n",
    "print(\"The number is \",next(y))\n",
    "\n",
    "\n",
    "\n",
    "\n",
    "\n"
   ]
  },
  {
   "cell_type": "code",
   "execution_count": null,
   "metadata": {},
   "outputs": [],
   "source": []
  },
  {
   "cell_type": "code",
   "execution_count": null,
   "metadata": {},
   "outputs": [],
   "source": []
  }
 ],
 "metadata": {
  "kernelspec": {
   "display_name": "Python 3",
   "language": "python",
   "name": "python3"
  },
  "language_info": {
   "codemirror_mode": {
    "name": "ipython",
    "version": 3
   },
   "file_extension": ".py",
   "mimetype": "text/x-python",
   "name": "python",
   "nbconvert_exporter": "python",
   "pygments_lexer": "ipython3",
   "version": "3.10.11"
  }
 },
 "nbformat": 4,
 "nbformat_minor": 2
}
