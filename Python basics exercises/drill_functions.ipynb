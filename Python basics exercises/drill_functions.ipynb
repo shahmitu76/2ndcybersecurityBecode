{
 "cells": [
  {
   "cell_type": "markdown",
   "metadata": {},
   "source": [
    "# Drill functions"
   ]
  },
  {
   "cell_type": "markdown",
   "metadata": {},
   "source": [
    "### 1. Say Hello\n",
    "Write a function called `hello` that returns a string of characters. This function will take as argument a variable `name`. This function will return a string `\"Hello name\"`."
   ]
  },
  {
   "cell_type": "markdown",
   "metadata": {},
   "source": [
    "Example :\n",
    "<pre><code>hello('Jean') => 'Hello Jean'</code></pre>\n",
    "<pre><code>hello() => 'Hello Anonymous' </code></pre>"
   ]
  },
  {
   "cell_type": "code",
   "execution_count": null,
   "metadata": {},
   "outputs": [
    {
     "data": {
      "text/plain": [
       "'Hello mitu'"
      ]
     },
     "execution_count": 2,
     "metadata": {},
     "output_type": "execute_result"
    }
   ],
   "source": [
    "def hello(name):\n",
    "    # Your code\n",
    "    return(f\"Hello {name}\")\n",
    "x= input(\"Please enter your name \\n\")\n",
    "hello(x)"
   ]
  },
  {
   "cell_type": "markdown",
   "metadata": {},
   "source": [
    "### 2. Count students\n",
    "Create a function `sum_of_students` that calculates and counts the number of students in a list and returns the total. The function will have to return an integer."
   ]
  },
  {
   "cell_type": "markdown",
   "metadata": {},
   "source": [
    "Example : \n",
    "```\n",
    "sum_of_students([[\"Jean\", \"Alice\", \"Edwige\", \"Peter\", \"James\"],\n",
    "               [\"Redouane\", \"Justine\", \"Adrien\", \"Nicolas\", \"Pierre\"]]) => 10\n",
    "```"
   ]
  },
  {
   "cell_type": "code",
   "execution_count": null,
   "metadata": {},
   "outputs": [
    {
     "name": "stdout",
     "output_type": "stream",
     "text": [
      "total of [['Jean', 'Alice', 'Edwige', 'Peter', 'James'], ['Redouane', 'Justine', 'Adrien', 'Nicolas', 'Pierre']] is 10\n"
     ]
    }
   ],
   "source": [
    "students=[[\"Jean\", \"Alice\", \"Edwige\", \"Peter\", \"James\"],\n",
    "               [\"Redouane\", \"Justine\", \"Adrien\", \"Nicolas\", \"Pierre\"]]\n",
    "total=0\n",
    "def sum_of_students(students_list):\n",
    "    # Your code\n",
    "    global total\n",
    "    for everylist in students_list:\n",
    "        for everyname in everylist:\n",
    "            total+=1\n",
    "    return 0\n",
    "sum_of_students(students)\n",
    "print(f\"total of {students} is {total}\")"
   ]
  },
  {
   "cell_type": "markdown",
   "metadata": {},
   "source": [
    "### 3.  Is divisible ?\n",
    "Create a function `is_divisible(n, x, y)` that checks if a number `n` is divisible by two numbers `x` AND `y`. All inputs are positive, non-zero digits."
   ]
  },
  {
   "cell_type": "markdown",
   "metadata": {},
   "source": [
    "Example:\n",
    "```\n",
    "is_divisible(3, 1, 3)--> True because 3 is divisible by 1 and 3\n",
    "is_divisible(12, 2, 6)--> True because 12 is divisible by 2 and 6\n",
    "is_divisible(100, 5, 3)--> False because 100 is not divisible by 3\n",
    "is_divisible(12, 7, 5)--> False because 12 is neither divisible by 7 nor 5\n",
    "```"
   ]
  },
  {
   "cell_type": "code",
   "execution_count": null,
   "metadata": {},
   "outputs": [
    {
     "name": "stdout",
     "output_type": "stream",
     "text": [
      "False because21 is not divisible by 3 and5 \n"
     ]
    }
   ],
   "source": [
    "def is_divisible(n, x, y):\n",
    "    # Your code\n",
    "    if n%x==0 and n%y==0:\n",
    "        return True\n",
    "    else:\n",
    "        return False\n",
    "n=int(input(\"Enter the number of which you want to check the factors\"))\n",
    "x=int(input(\"Enter the first possible factor\"))\n",
    "y=int(input(\"Enter the second possible factor\"))\n",
    "if is_divisible(n, x, y)==True:\n",
    "    print(f\"True because {n} is divisible by{x} and{y}\")\n",
    "else:\n",
    "     print(f\"False because{n} is not divisible by {x} and{y} \")\n",
    "\n"
   ]
  },
  {
   "cell_type": "markdown",
   "metadata": {},
   "source": [
    "### 4. Abbreviate a two-word name\n",
    "Write a function to convert a name into initials. This functions strictly takes two words with one space in between them."
   ]
  },
  {
   "cell_type": "markdown",
   "metadata": {},
   "source": [
    "Example : \n",
    "```\n",
    "Sam Harris => S.H\n",
    "\n",
    "Patrick Feeney => P.F\n",
    "```"
   ]
  },
  {
   "cell_type": "code",
   "execution_count": null,
   "metadata": {},
   "outputs": [
    {
     "name": "stdout",
     "output_type": "stream",
     "text": [
      "abbreviation is ['m', '.']\n",
      "j is m\n",
      "j is i\n",
      "j is t\n",
      "j is u\n",
      "j is  \n",
      "j is s\n",
      "j is h\n",
      "j is a\n",
      "j is h\n",
      "abbreviation is ['m', '.', 's']\n",
      "mitu shah is m.s\n"
     ]
    }
   ],
   "source": [
    "abbreviation =\"hello\"\n",
    "def abbreviate_name(name):\n",
    "    # Your code\n",
    "    global abbreviation\n",
    "    list_of_words=list(name)\n",
    "    \n",
    "    abbreviation=[]\n",
    "    abbreviation.append(list_of_words[0])\n",
    "    abbreviation.append(\".\")\n",
    "\n",
    "    print(f\"abbreviation is {abbreviation}\")\n",
    "    for i,j in enumerate(list_of_words):\n",
    "        print(f\"j is {j}\")\n",
    "        if j== \" \":\n",
    "            abbreviation.append(list_of_words[i+1])\n",
    "    print(f\"abbreviation is {abbreviation}\")\n",
    "    return abbreviation\n",
    "x=input(\"Enter a two letter name \")\n",
    "y=abbreviate_name(x)\n",
    "final= ''.join(y)\n",
    "print(f\"{x} is {final}\")"
   ]
  },
  {
   "cell_type": "markdown",
   "metadata": {},
   "source": [
    "### 5. Sum of positive \n",
    "You get an array of numbers, return the sum of all of the positives ones."
   ]
  },
  {
   "cell_type": "markdown",
   "metadata": {},
   "source": [
    "Example :  \n",
    "` [1,-4,7,12] => 1 + 7 + 12 = 20`"
   ]
  },
  {
   "cell_type": "code",
   "execution_count": 66,
   "metadata": {},
   "outputs": [
    {
     "name": "stdout",
     "output_type": "stream",
     "text": [
      "You entered this list 1-23\n",
      "type of numbers is <class 'str'>\n",
      "type of every_number is <class 'str'>\n",
      "!st number is 1\n",
      "length of list is 4\n",
      "type of every_number is <class 'str'>\n",
      "!st number is -\n",
      "length of list is 4\n"
     ]
    },
    {
     "ename": "ValueError",
     "evalue": "invalid literal for int() with base 10: '-'",
     "output_type": "error",
     "traceback": [
      "\u001b[1;31m---------------------------------------------------------------------------\u001b[0m",
      "\u001b[1;31mValueError\u001b[0m                                Traceback (most recent call last)",
      "Cell \u001b[1;32mIn[66], line 17\u001b[0m\n\u001b[0;32m     15\u001b[0m x\u001b[39m=\u001b[39m\u001b[39minput\u001b[39m(\u001b[39m\"\u001b[39m\u001b[39mEnter a list of integers \u001b[39m\u001b[39m\\n\u001b[39;00m\u001b[39m\"\u001b[39m)\n\u001b[0;32m     16\u001b[0m \u001b[39mprint\u001b[39m(\u001b[39mf\u001b[39m\u001b[39m\"\u001b[39m\u001b[39mYou entered this list \u001b[39m\u001b[39m{\u001b[39;00mx\u001b[39m}\u001b[39;00m\u001b[39m\"\u001b[39m)\n\u001b[1;32m---> 17\u001b[0m y\u001b[39m=\u001b[39mpositive_sum(x)\n\u001b[0;32m     18\u001b[0m \u001b[39mprint\u001b[39m(\u001b[39mf\u001b[39m\u001b[39m\"\u001b[39m\u001b[39mList of positive integers is \u001b[39m\u001b[39m{\u001b[39;00my\u001b[39m}\u001b[39;00m\u001b[39m\"\u001b[39m)\n",
      "Cell \u001b[1;32mIn[66], line 9\u001b[0m, in \u001b[0;36mpositive_sum\u001b[1;34m(numbers)\u001b[0m\n\u001b[0;32m      7\u001b[0m     \u001b[39mprint\u001b[39m(\u001b[39mf\u001b[39m\u001b[39m\"\u001b[39m\u001b[39m!st number is \u001b[39m\u001b[39m{\u001b[39;00mevery_number\u001b[39m}\u001b[39;00m\u001b[39m\"\u001b[39m)\n\u001b[0;32m      8\u001b[0m     \u001b[39mprint\u001b[39m(\u001b[39mf\u001b[39m\u001b[39m\"\u001b[39m\u001b[39mlength of list is \u001b[39m\u001b[39m{\u001b[39;00m\u001b[39mlen\u001b[39m(numbers)\u001b[39m}\u001b[39;00m\u001b[39m\"\u001b[39m)\n\u001b[1;32m----> 9\u001b[0m     \u001b[39mif\u001b[39;00m \u001b[39mint\u001b[39;49m(every_number)\u001b[39m>\u001b[39m\u001b[39m0\u001b[39m:\n\u001b[0;32m     10\u001b[0m         list_of_positive_numbers\u001b[39m.\u001b[39mappend(every_number)\n\u001b[0;32m     14\u001b[0m \u001b[39mreturn\u001b[39;00m list_of_positive_numbers\n",
      "\u001b[1;31mValueError\u001b[0m: invalid literal for int() with base 10: '-'"
     ]
    }
   ],
   "source": [
    "def positive_sum(numbers):\n",
    "    # Your code\n",
    "    print(f\"type of numbers is {type(numbers)}\")\n",
    "    list_of_positive_numbers=[]\n",
    "    for every_number in numbers:\n",
    "        print(f\"type of every_number is {type(every_number)}\")\n",
    "        print(f\"!st number is {every_number}\")\n",
    "        print(f\"length of list is {len(numbers)}\")\n",
    "        if int(every_number)>0:\n",
    "            list_of_positive_numbers.append(every_number)\n",
    "            \n",
    "\n",
    "\n",
    "    return list_of_positive_numbers\n",
    "x=input(\"Enter a list of integers \\n\")\n",
    "print(f\"You entered this list {x}\")\n",
    "y=positive_sum(x)\n",
    "print(f\"List of positive integers is {y}\")"
   ]
  },
  {
   "cell_type": "markdown",
   "metadata": {},
   "source": [
    "### 6. Sum mixed array \n",
    "\n",
    "Given an array of integers as strings and numbers, return the sum of the array values as if all were numbers.\n",
    "\n",
    "Return your answer as a number.\n"
   ]
  },
  {
   "cell_type": "markdown",
   "metadata": {},
   "source": [
    "Example : \n",
    "```\n",
    "mixed_sum(['5', '0', 9, 3, 2, 1, '9', 6, 7]) => 42\n",
    "```"
   ]
  },
  {
   "cell_type": "code",
   "execution_count": 75,
   "metadata": {},
   "outputs": [
    {
     "name": "stdout",
     "output_type": "stream",
     "text": [
      "The mixed sum is 42\n"
     ]
    }
   ],
   "source": [
    "def mixed_sum(array):\n",
    "    # Your code\n",
    "    sum_array=0\n",
    "    for every_element in array:\n",
    "       # print(f\"typeof element is {type(every_element)}\")\n",
    "        if isinstance(every_element, str)==True:\n",
    "             every_element=int(every_element)\n",
    "            #print(f\"typeof element now is {type(every_element)}\")\n",
    "        sum_array+=every_element\n",
    "    return sum_array\n",
    "\n",
    "x=['5','0',9,3,2,1,'9',6,7]\n",
    "y=mixed_sum(x)\n",
    "print(f\"The mixed sum is {y}\")"
   ]
  },
  {
   "cell_type": "markdown",
   "metadata": {},
   "source": [
    "### 7. Return the day\n",
    "Complete the function which returns the weekday according to the input number:\n",
    "\n",
    "    1 returns \"Sunday\"\n",
    "    2 returns \"Monday\"\n",
    "    3 returns \"Tuesday\"\n",
    "    4 returns \"Wednesday\"\n",
    "    5 returns \"Thursday\"\n",
    "    6 returns \"Friday\"\n",
    "    7 returns \"Saturday\"\n",
    "    Otherwise returns \"Wrong, please enter a number between 1 and 7\"\n",
    "\n"
   ]
  },
  {
   "cell_type": "code",
   "execution_count": 83,
   "metadata": {},
   "outputs": [
    {
     "name": "stdout",
     "output_type": "stream",
     "text": [
      "Corresponding day to 8 is  is not a valid number\n"
     ]
    }
   ],
   "source": [
    "def what_day(number):\n",
    "    # Your code\n",
    "    days_dict={1:\"Sunday\",\n",
    "    2 :\"Monday\",\n",
    "    3 : \"Tuesday\",\n",
    "    4 : \"Wednesday\",\n",
    "    5 : \"Thursday\",\n",
    "    6 : \"Friday\",\n",
    "    7 : \"Saturday\"}\n",
    "\n",
    "    if int(number)>=1 and int(number)<=7:\n",
    "        return days_dict[int(number)]\n",
    "    else:\n",
    "        return ' not a valid number'\n",
    "\n",
    "\n",
    "    \n",
    "    \n",
    "\n",
    "x=input(\"Enter the number for which you want to know the corresponding day \\n\")\n",
    "y=what_day(x)\n",
    "print(f\"Corresponding day to {x} is {y}\")"
   ]
  },
  {
   "cell_type": "markdown",
   "metadata": {},
   "source": [
    "### 8. Summation\n",
    "Write a program that finds the summation of every number from 1 to `number`. The number will always be a positive integer greater than 0.\n"
   ]
  },
  {
   "cell_type": "markdown",
   "metadata": {},
   "source": [
    "Example : \n",
    "```\n",
    "    summation(2) -> 3\n",
    "    1 + 2\n",
    "\n",
    "    summation(8) -> 36\n",
    "    1 + 2 + 3 + 4 + 5 + 6 + 7 + 8\n",
    "```"
   ]
  },
  {
   "cell_type": "code",
   "execution_count": 18,
   "metadata": {},
   "outputs": [
    {
     "name": "stdout",
     "output_type": "stream",
     "text": [
      "value of i is 0 and summation_number is0\n",
      "value of i is 1 and summation_number is1\n",
      "value of i is 2 and summation_number is3\n",
      "value of i is 3 and summation_number is6\n",
      "value of i is 4 and summation_number is10\n",
      "value of i is 5 and summation_number is15\n",
      "value of i is 6 and summation_number is21\n",
      "value of i is 7 and summation_number is28\n",
      "value of i is 8 and summation_number is36\n",
      "value of i is 9 and summation_number is45\n",
      "value of i is 10 and summation_number is55\n",
      "Summation of 10 is 55\n"
     ]
    }
   ],
   "source": [
    "def summation(number):\n",
    "    summation_number=0\n",
    "    i=0\n",
    "    \"\"\"while i<=number:\n",
    "        print(f\"value of i is {i}\")\n",
    "        summation_number=summation_number+i\n",
    "        i+=1\n",
    "        \"\"\"\n",
    "    for i in range(number+1):\n",
    "        #print(f\"value of i is {i} and summation_number is{summation_number}\")'''\n",
    "        summation_number+=i\n",
    "        print(f\"value of i is {i} and summation_number is{summation_number}\")\n",
    "\n",
    "    return summation_number  # Your code\n",
    "\n",
    "x=int(input(\"Enter an integer for whih you want the summation \\n\"))\n",
    "y=summation(x)\n",
    "print(f\"Summation of {x} is {y}\")"
   ]
  },
  {
   "cell_type": "code",
   "execution_count": null,
   "metadata": {},
   "outputs": [],
   "source": []
  },
  {
   "cell_type": "markdown",
   "metadata": {},
   "source": [
    "### 9. If you can't sleep, just count sheep!!"
   ]
  },
  {
   "cell_type": "markdown",
   "metadata": {},
   "source": [
    "Given a non-negative integer, 3 for example, return a string saying: \"1 sheep...2 sheep...3 sheep...\". Input will always be valid, i.e. no negative integers."
   ]
  },
  {
   "cell_type": "code",
   "execution_count": 26,
   "metadata": {},
   "outputs": [
    {
     "name": "stdout",
     "output_type": "stream",
     "text": [
      "\n"
     ]
    }
   ],
   "source": [
    "def count_sheep(number):\n",
    "    new_string=\"\"\n",
    "    for i in range(number):\n",
    "        new_string= new_string+str(i+1)+ \" sheep...\"\n",
    "    return new_string  # Your code\n",
    "\n",
    "\n",
    "x=int(input(\"Enter a positive integer \\n\"))\n",
    "y=count_sheep(x)\n",
    "print(y)"
   ]
  },
  {
   "cell_type": "markdown",
   "metadata": {},
   "source": [
    "### 10. Student's final grade \n",
    "Create a function `final_grade`, which calculates the final grade of a student depending on two parameters: a grade for the `exam_grade` and a number of completed projects.\n",
    "\n",
    "This function should take two arguments: `exam_grade`, grade of the exam (from 0 to 100), and `completed_projects`, number of completed projects (0 and above).\n",
    "\n",
    "This function should return a number, i.e. the final grade. There are four types of final grades:\n",
    "\n",
    "    100, if a grade for the exam is more than 90 or if the number of completed projects more than 10.\n",
    "    90, if a grade for the exam is more than 75 and if the number of completed projects is minimum 5.\n",
    "    75, if a grade for the exam is more than 50 and if the number of completed projects is minimum 2.\n",
    "    0, in other cases\n"
   ]
  },
  {
   "cell_type": "code",
   "execution_count": 30,
   "metadata": {},
   "outputs": [
    {
     "name": "stdout",
     "output_type": "stream",
     "text": [
      "Final grade is 75\n"
     ]
    }
   ],
   "source": [
    "def final_grade(exam_grade, completed_projects):\n",
    "    if exam_grade>90 or completed_projects>10:\n",
    "        return 100\n",
    "    elif exam_grade>75 and completed_projects>=5:\n",
    "        return 90\n",
    "    elif exam_grade>50 and completed_projects>=2:\n",
    "        return 75\n",
    "\n",
    "\n",
    "\n",
    "    return 0  # Your code\n",
    "\n",
    "x=int(input(\"Enter the exam grade \\n\"))\n",
    "y=int(input(\"Enter the completed projects grade \\n\"))\n",
    "\n",
    "z=final_grade(x,y)\n",
    "print(f\"Final grade is {z}\")"
   ]
  },
  {
   "cell_type": "markdown",
   "metadata": {},
   "source": [
    "## Testing"
   ]
  },
  {
   "cell_type": "markdown",
   "metadata": {},
   "source": [
    "Do not touch the code, just run it"
   ]
  },
  {
   "cell_type": "code",
   "execution_count": null,
   "metadata": {},
   "outputs": [],
   "source": [
    "import unittest\n",
    "\n",
    "\n",
    "class TestNotebook(unittest.TestCase):\n",
    "    def test_hello(self):\n",
    "        self.assertEqual(hello(), \"Hello Anonymous\")\n",
    "        self.assertEqual(hello(\"Jean\"), \"Hello Jean\")\n",
    "\n",
    "    def test_sum_of_students(self):\n",
    "        self.assertEqual(\n",
    "            sum_of_students(\n",
    "                [\n",
    "                    [\"Jean\", \"Alice\", \"Edwige\", \"Peter\", \"James\"],\n",
    "                    [\"Redouane\", \"Justine\", \"Adrien\", \"Nicolas\", \"Pierre\"],\n",
    "                ]\n",
    "            ),\n",
    "            10,\n",
    "        )\n",
    "\n",
    "    def test_is_divisible(self):\n",
    "        self.assertEqual(is_divisible(3, 3, 4), False)\n",
    "        self.assertEqual(is_divisible(12, 3, 4), True)\n",
    "        self.assertEqual(is_divisible(8, 3, 4), False)\n",
    "        self.assertEqual(is_divisible(48, 3, 4), True)\n",
    "\n",
    "    def test_abbreviate_name(self):\n",
    "        self.assertEqual(abbreviate_name(\"Sam Harris\"), \"S.H\")\n",
    "        self.assertEqual(abbreviate_name(\"Patrick Feenan\"), \"P.F\")\n",
    "        self.assertEqual(abbreviate_name(\"Evan Cole\"), \"E.C\")\n",
    "        self.assertEqual(abbreviate_name(\"P Favuzzi\"), \"P.F\")\n",
    "        self.assertEqual(abbreviate_name(\"David Mendieta\"), \"D.M\")\n",
    "\n",
    "    def test_positive_sum(self):\n",
    "        self.assertEqual(positive_sum([1, 2, 3, 4, 5]), 15)\n",
    "        self.assertEqual(positive_sum([1, -2, 3, 4, 5]), 13)\n",
    "        self.assertEqual(positive_sum([-1, 2, 3, 4, -5]), 9)\n",
    "        self.assertEqual(positive_sum([]), 0)\n",
    "        self.assertEqual(positive_sum([-1, -2, -3, -4, -5]), 0)\n",
    "\n",
    "    def test_sum_mixed_array(self):\n",
    "        self.assertEqual(mixed_sum([9, 3, \"7\", \"3\"]), 22)\n",
    "        self.assertEqual(mixed_sum([\"5\", \"0\", 9, 3, 2, 1, \"9\", 6, 7]), 42)\n",
    "        self.assertEqual(mixed_sum([\"3\", 6, 6, 0, \"5\", 8, 5, \"6\", 2, \"0\"]), 41)\n",
    "        self.assertEqual(mixed_sum([\"1\", \"5\", \"8\", 8, 9, 9, 2, \"3\"]), 45)\n",
    "        self.assertEqual(mixed_sum([8, 0, 0, 8, 5, 7, 2, 3, 7, 8, 6, 7]), 61)\n",
    "\n",
    "    def test_return_day(self):\n",
    "        self.assertEqual(what_day(1), \"Sunday\")\n",
    "        self.assertEqual(what_day(2), \"Monday\")\n",
    "        self.assertEqual(what_day(3), \"Tuesday\")\n",
    "        self.assertEqual(what_day(8), \"Wrong, please enter a number between 1 and 7\")\n",
    "        self.assertEqual(what_day(20), \"Wrong, please enter a number between 1 and 7\")\n",
    "\n",
    "    def test_summation(self):\n",
    "        self.assertEqual(summation(1), 1)\n",
    "        self.assertEqual(summation(8), 36)\n",
    "\n",
    "    def test_count_sheep(self):\n",
    "        self.assertEqual(count_sheep(1), \"1 sheep...\")\n",
    "        self.assertEqual(count_sheep(2), \"1 sheep...2 sheep...\")\n",
    "        self.assertEqual(count_sheep(3), \"1 sheep...2 sheep...3 sheep...\")\n",
    "\n",
    "    def test_final_grade(self):\n",
    "        self.assertEqual(final_grade(100, 12), 100)\n",
    "        self.assertEqual(final_grade(85, 5), 90)\n",
    "\n",
    "\n",
    "unittest.main(argv=[\"\"], verbosity=2, exit=False)"
   ]
  }
 ],
 "metadata": {
  "kernelspec": {
   "display_name": "Python 3",
   "language": "python",
   "name": "python3"
  },
  "language_info": {
   "codemirror_mode": {
    "name": "ipython",
    "version": 3
   },
   "file_extension": ".py",
   "mimetype": "text/x-python",
   "name": "python",
   "nbconvert_exporter": "python",
   "pygments_lexer": "ipython3",
   "version": "3.10.11"
  }
 },
 "nbformat": 4,
 "nbformat_minor": 2
}
