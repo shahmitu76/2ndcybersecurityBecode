{
 "cells": [
  {
   "cell_type": "markdown",
   "metadata": {},
   "source": [
    "# Drill loops and iterations"
   ]
  },
  {
   "cell_type": "markdown",
   "metadata": {},
   "source": [
    "### 1. Display all students in the `students` list in alphabetical order."
   ]
  },
  {
   "cell_type": "code",
   "execution_count": 1,
   "metadata": {},
   "outputs": [
    {
     "name": "stdout",
     "output_type": "stream",
     "text": [
      "Merouane\n",
      "Baptiste\n",
      "Caroline\n",
      "Joe\n",
      "Sophie\n",
      "Nathan\n",
      "Raphaël\n",
      "Axel\n",
      "Mathieu\n",
      "Adrien\n"
     ]
    }
   ],
   "source": [
    "students = [\n",
    "    \"Merouane\",\n",
    "    \"Baptiste\",\n",
    "    \"Caroline\",\n",
    "    \"Joe\",\n",
    "    \"Sophie\",\n",
    "    \"Nathan\",\n",
    "    \"Raphaël\",\n",
    "    \"Axel\",\n",
    "    \"Mathieu\",\n",
    "    \"Adrien\",\n",
    "]\n",
    "for x in students:\n",
    "    print(x)"
   ]
  },
  {
   "cell_type": "code",
   "execution_count": 11,
   "metadata": {},
   "outputs": [
    {
     "name": "stdout",
     "output_type": "stream",
     "text": [
      "['Merouane', 'Mathieu']\n"
     ]
    }
   ],
   "source": [
    "### 2. Display only the names which begin with the letter \"M\".\n",
    "students = [\n",
    "    \"Merouane\",\n",
    "    \"Baptiste\",\n",
    "    \"Caroline\",\n",
    "    \"Joe\",\n",
    "    \"Sophie\",\n",
    "    \"Nathan\",\n",
    "    \"Raphaël\",\n",
    "    \"Axel\",\n",
    "    \"Mathieu\",\n",
    "    \"Adrien\",\n",
    "]\n",
    "print([name for name in students if name.startswith(\"M\")])\n",
    "    "
   ]
  },
  {
   "cell_type": "markdown",
   "metadata": {},
   "source": [
    "### 3. Display integers from 0 to 15 not included, using a `for` loop and the `range()` instruction."
   ]
  },
  {
   "cell_type": "code",
   "execution_count": 15,
   "metadata": {},
   "outputs": [
    {
     "name": "stdout",
     "output_type": "stream",
     "text": [
      "0\n",
      "1\n",
      "2\n",
      "3\n",
      "4\n",
      "5\n",
      "6\n",
      "7\n",
      "8\n",
      "9\n",
      "10\n",
      "11\n",
      "12\n",
      "13\n",
      "14\n"
     ]
    }
   ],
   "source": [
    "for i in range(15):\n",
    "    print(i)"
   ]
  },
  {
   "cell_type": "markdown",
   "metadata": {},
   "source": [
    "### 4. Create a `for` loop that displays integers from 1 to 10 included, but use the `break` instruction to interrupt it at 5."
   ]
  },
  {
   "cell_type": "code",
   "execution_count": 17,
   "metadata": {},
   "outputs": [
    {
     "name": "stdout",
     "output_type": "stream",
     "text": [
      "1\n",
      "2\n",
      "3\n",
      "4\n"
     ]
    }
   ],
   "source": [
    "for i in range(1,11):\n",
    "    if i==5:\n",
    "        break\n",
    "    else:\n",
    "        print(i)"
   ]
  },
  {
   "cell_type": "markdown",
   "metadata": {},
   "source": [
    "### 4. Create a `for` loop that displays integers from 1 to 10 included, but use the `continue` to modify its execution at 5."
   ]
  },
  {
   "cell_type": "code",
   "execution_count": 20,
   "metadata": {},
   "outputs": [
    {
     "name": "stdout",
     "output_type": "stream",
     "text": [
      "1\n",
      "2\n",
      "3\n",
      "4\n",
      "5\n",
      "6\n",
      "7\n",
      "8\n",
      "9\n",
      "10\n"
     ]
    }
   ],
   "source": [
    "for i in range(1,11):\n",
    "    print(i)\n",
    "    if i==5:\n",
    "        continue"
   ]
  },
  {
   "cell_type": "markdown",
   "metadata": {},
   "source": [
    "### 6. Follow the instructions :"
   ]
  },
  {
   "cell_type": "markdown",
   "metadata": {},
   "source": [
    "- **Sort and display the list.**\n",
    "    - Output expected: `[10, 17, 25, 38, 72]`\n",
    "- **Add item 12 to the list and display the list.**\n",
    "    - Output expected: `[17, 38, 10, 25, 72, 12]`\n",
    "- **Reverse and display the list.**\n",
    "    - Output expected: `[12, 72, 25, 10, 38, 17]`\n",
    "- **Display the index of element 17.**\n",
    "    - Output expected: `5`\n",
    "- **Remove item 38 and display the list.**\n",
    "    - Output expected: `[12, 72, 25, 10, 17]`\n",
    "- **Display the sub-list of the 2nd to 3rd element.**\n",
    "    - Output expected: `[72, 25]`\n",
    "- **Display the sub-list from the beginning to the 2nd element.**\n",
    "    - Output expected: `[12, 72]`\n",
    "- **Display the sub-list of the 3rd element at the end of the list.**\n",
    "    - Output expected: `[25, 10, 17]`\n",
    "- **Display the complete sub-list of the list.**\n",
    "    - Output expected: `[12, 72, 25, 10, 17]`\n",
    "- **Display the last element using a negative indication.**\n",
    "    - Output expected: `[17]`"
   ]
  },
  {
   "cell_type": "code",
   "execution_count": 57,
   "metadata": {},
   "outputs": [
    {
     "name": "stdout",
     "output_type": "stream",
     "text": [
      "Sorted list : [10, 17, 25, 38, 72]\n",
      "[17, 38, 10, 25, 72, 12]\n",
      "reversed [12, 72, 25, 10, 38, 17]\n",
      "5\n",
      "new list after deleting 38 [12, 72, 25, 10, 17]\n",
      "sub-list is [72, 25]\n",
      "[12, 72]\n",
      "[25, 10, 17]\n",
      "[12, 72, 25, 10, 17]\n",
      "17\n"
     ]
    }
   ],
   "source": [
    "list_of_numbers = [17, 38, 10, 25, 72]\n",
    "\n",
    "# Code here\n",
    "#- **Sort and display the list.**\n",
    "#  - Output expected: `[10, 17, 25, 38, 72]`\n",
    "\n",
    "sorted_list=sorted(list_of_numbers)\n",
    "print(\"Sorted list :\",sorted_list)\n",
    "#**Add item 12 to the list and display the list.**\n",
    "  # - Output expected: `[17, 38, 10, 25, 72, 12]`\n",
    "list_of_numbers.append(12)\n",
    "print(list_of_numbers)\n",
    "#**Reverse and display the list.**\n",
    "   # - Output expected: `[12, 72, 25, 10, 38, 17]`\n",
    "list_of_numbers.reverse()\n",
    "print(\"reversed\",list_of_numbers)\n",
    "#- **Display the index of element 17.**\n",
    " #   - Output expected: `5`\n",
    "for i,j in enumerate(list_of_numbers):\n",
    "  if j==17:\n",
    "    print(i)\n",
    "   \n",
    "\n",
    "# **Remove item 38 and display the list.**\n",
    "  #  - Output expected: `[12, 72, 25, 10, 17]`\n",
    "for i in list_of_numbers:\n",
    "   if i==38:\n",
    "    list_of_numbers.remove(i)\n",
    "print(\"new list after deleting 38\", list_of_numbers)\n",
    "\n",
    " # Display the sub-list of the 2nd to 3rd element.**\n",
    "   #- Output expected: `[72, 25]`\n",
    "sub_list=list_of_numbers[1:3]\n",
    "print(\"sub-list is\", sub_list)\n",
    "#- **Display the sub-list from the beginning to the 2nd element.**\n",
    "#    - Output expected: `[12, 72]`\n",
    "sub_list=list_of_numbers[0:2]\n",
    "print(sub_list)\n",
    "#- **Display the sub-list of the 3rd element at the end of the list.**\n",
    "#    - Output expected: `[25, 10, 17]`\n",
    "sub_list=list_of_numbers[2::]\n",
    "print(sub_list)\n",
    "\n",
    "#- **Display the complete sub-list of the list.**\n",
    " #   - Output expected: `[12, 72, 25, 10, 17]`\n",
    "print(list_of_numbers)\n",
    "#- **Display the last element using a negative indication.**\n",
    " #   - Output expected: `[17]' ''' \n",
    "lastelement=list_of_numbers[-1]\n",
    "print(lastelement)\n",
    "    \n",
    "     "
   ]
  },
  {
   "cell_type": "markdown",
   "metadata": {},
   "source": [
    "Note that some list methods do not return anything."
   ]
  },
  {
   "cell_type": "markdown",
   "metadata": {},
   "source": [
    "### 7. Write an algorithm that:\n",
    "1. Asks the user to enter a number.\n",
    "2. Make sure that your program displays all the numbers down to 0. For example, if the user enters the number 3, then your program will display something like this: `3,2,1,0`"
   ]
  },
  {
   "cell_type": "code",
   "execution_count": 6,
   "metadata": {},
   "outputs": [],
   "source": [
    "num= int(input(\"Enter a number\"))\n",
    "for i in range(num,-1,-1):\n",
    "    print(\"i is\",i)\n",
    "\n"
   ]
  },
  {
   "cell_type": "markdown",
   "metadata": {},
   "source": [
    "### 8.The price is right ! \n",
    "- Create a variable that will contain the number to be found. \n",
    "- Then create a function that will ask the user to find this price (asking for a number). \n",
    "- If the user enters a number that is too high, output the sentence: \"It's less.\". \n",
    "- If he enters a number that is too low, output the sentence: \"It's more.\". \n",
    "- If the user finds the right price, output the sentence: \"Well done, you won!\"."
   ]
  },
  {
   "cell_type": "code",
   "execution_count": 28,
   "metadata": {},
   "outputs": [
    {
     "name": "stdout",
     "output_type": "stream",
     "text": [
      "number to be found 5\n",
      "you have given value 6\n",
      "Its,less\n",
      "you have given value 4\n",
      "Its more\n",
      "you have given value 5\n",
      "You win\n"
     ]
    }
   ],
   "source": [
    "import random\n",
    "x=30\n",
    "number_to_be_found=random.randint(0,10)\n",
    "print(\"number to be found\", number_to_be_found)\n",
    "number_fn()\n",
    "def number_fn():\n",
    "    x=int(input(\"Enter the number\"))\n",
    "    print(\"you have given value\",x)\n",
    "    if x>number_to_be_found:\n",
    "        print(\"Its,less\")\n",
    "        number_fn()\n",
    "    elif x<number_to_be_found:\n",
    "        print(\"Its more\")\n",
    "        number_fn()\n",
    "    else:\n",
    "        print(\"You win\")\n",
    "        wish= input(\"Do you want to play more\")\n",
    "        if wish==\"y\":\n",
    "            number_fn()\n",
    "\n",
    "\n",
    "\n",
    "\n"
   ]
  },
  {
   "cell_type": "markdown",
   "metadata": {},
   "source": [
    "### 9. Display all students with the sentence \"NAME is an alumni. \""
   ]
  },
  {
   "cell_type": "code",
   "execution_count": 31,
   "metadata": {},
   "outputs": [
    {
     "name": "stdout",
     "output_type": "stream",
     "text": [
      "David is an alumni\n",
      "Justine is an alumni\n",
      "Valentin is an alumni\n",
      "Axel is an alumni\n",
      "Redouane is an alumni\n",
      "Julie is an alumni\n",
      "Stéphane is an alumni\n",
      "Mostapha is an alumni\n",
      "Claudiu is an alumni\n",
      "Son is an alumni\n"
     ]
    }
   ],
   "source": [
    "all_students = [\n",
    "    [\"David\", \"Justine\", \"Valentin\", \"Axel\", \"Redouane\"],\n",
    "    [\"Julie\", \"Stéphane\", \"Mostapha\", \"Claudiu\", \"Son\"],\n",
    "]\n",
    "for sub_list in all_students:\n",
    "    for name in sub_list:\n",
    "        print(\"{} is an alumni\".format(name))"
   ]
  },
  {
   "cell_type": "markdown",
   "metadata": {},
   "source": [
    "**10. Display all elements. If the element is part of the first list, display - `\"ELEMENT_HERE is a backend language?\"` - and if the element is part of the second list, display - `\"ELEMENT_HERE is a frontend language?\"`** "
   ]
  },
  {
   "cell_type": "code",
   "execution_count": 36,
   "metadata": {},
   "outputs": [
    {
     "name": "stdout",
     "output_type": "stream",
     "text": [
      "Element_here is a backend language PHP\n",
      "Element_here is a backend language Java\n",
      "Element_here is a backend language C#\n",
      "Element_here is a frontend language HTML\n",
      "Element_here is a frontend language CSS\n",
      "Element_here is a frontend language Javascript\n"
     ]
    }
   ],
   "source": [
    "languages = [[\"PHP\", \"Java\", \"C#\"], [\"HTML\", \"CSS\", \"Javascript\"]]\n",
    "for i,j in enumerate(languages):\n",
    "    if i==0:\n",
    "        for front_end in j:\n",
    "            print(\"Element_here is a backend language\",front_end)\n",
    "    else:\n",
    "        for back_end in j:\n",
    "            print(\"Element_here is a frontend language\",back_end)\n",
    "        \n",
    "        "
   ]
  },
  {
   "cell_type": "markdown",
   "metadata": {},
   "source": [
    "## [Next one](../8.everything-is-object/everything-is-object.ipynb)"
   ]
  }
 ],
 "metadata": {
  "kernelspec": {
   "display_name": "Python 3",
   "language": "python",
   "name": "python3"
  },
  "language_info": {
   "codemirror_mode": {
    "name": "ipython",
    "version": 3
   },
   "file_extension": ".py",
   "mimetype": "text/x-python",
   "name": "python",
   "nbconvert_exporter": "python",
   "pygments_lexer": "ipython3",
   "version": "3.10.11"
  }
 },
 "nbformat": 4,
 "nbformat_minor": 2
}
